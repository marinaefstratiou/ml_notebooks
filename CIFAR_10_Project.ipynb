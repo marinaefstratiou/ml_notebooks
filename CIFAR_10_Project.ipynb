{
  "nbformat": 4,
  "nbformat_minor": 0,
  "metadata": {
    "colab": {
      "provenance": [],
      "authorship_tag": "ABX9TyPfWMlTzqgcMSwO1R4J+r8t",
      "include_colab_link": true
    },
    "kernelspec": {
      "name": "python3",
      "display_name": "Python 3"
    },
    "language_info": {
      "name": "python"
    },
    "accelerator": "TPU"
  },
  "cells": [
    {
      "cell_type": "markdown",
      "metadata": {
        "id": "view-in-github",
        "colab_type": "text"
      },
      "source": [
        "<a href=\"https://colab.research.google.com/github/marinaefstratiou/ml_notebooks/blob/main/CIFAR_10_Project.ipynb\" target=\"_parent\"><img src=\"https://colab.research.google.com/assets/colab-badge.svg\" alt=\"Open In Colab\"/></a>"
      ]
    },
    {
      "cell_type": "code",
      "execution_count": 2,
      "metadata": {
        "id": "ZRmK5S3891iv"
      },
      "outputs": [],
      "source": [
        "import tensorflow as tf\n",
        "from tensorflow.keras.datasets import cifar10\n",
        "import numpy as np\n",
        "import matplotlib.pyplot as plt"
      ]
    },
    {
      "cell_type": "markdown",
      "source": [
        "**Configuring a TPU to speed up training**"
      ],
      "metadata": {
        "id": "jD-IoBNbRF0d"
      }
    },
    {
      "cell_type": "code",
      "source": [
        "try:\n",
        "  resolver = tf.distribute.cluster_resolver.TPUClusterResolver()  # TPU detection\n",
        "  tf.config.experimental_connect_to_cluster(resolver)\n",
        "  tf.tpu.experimental.initialize_tpu_system(resolver)\n",
        "  strategy = tf.distribute.TPUStrategy(resolver)\n",
        "except ValueError:\n",
        "  print(\"Could not connect to TPU\")\n",
        "  strategy = tf.distribute.get_strategy() # default strategy that works on CPU and single GPU"
      ],
      "metadata": {
        "id": "H8Frss4ERGst"
      },
      "execution_count": 3,
      "outputs": []
    },
    {
      "cell_type": "code",
      "source": [
        "(x_train, y_train), (x_test, y_test) = cifar10.load_data()\n",
        "# Display dataset information\n",
        "print('x_train shape:', x_train.shape)\n",
        "print(x_train.shape[0], 'train samples')\n",
        "print(x_test.shape[0], 'test samples')"
      ],
      "metadata": {
        "colab": {
          "base_uri": "https://localhost:8080/"
        },
        "id": "wijzquub-K2M",
        "outputId": "d4765e32-5e93-4b90-ce0e-c92ee937b96e"
      },
      "execution_count": 4,
      "outputs": [
        {
          "output_type": "stream",
          "name": "stdout",
          "text": [
            "Downloading data from https://www.cs.toronto.edu/~kriz/cifar-10-python.tar.gz\n",
            "170498071/170498071 [==============================] - 2s 0us/step\n",
            "x_train shape: (50000, 32, 32, 3)\n",
            "50000 train samples\n",
            "10000 test samples\n"
          ]
        }
      ]
    },
    {
      "cell_type": "code",
      "source": [
        "x_train[2]"
      ],
      "metadata": {
        "colab": {
          "base_uri": "https://localhost:8080/",
          "height": 72
        },
        "id": "IOn9wxMhBg9e",
        "outputId": "09ac17d8-f8c8-4bd9-930a-56074644c2de"
      },
      "execution_count": 5,
      "outputs": [
        {
          "output_type": "execute_result",
          "data": {
            "text/plain": [
              "array([[[255, 255, 255],\n",
              "        [253, 253, 253],\n",
              "        [253, 253, 253],\n",
              "        ...,\n",
              "        [253, 253, 253],\n",
              "        [253, 253, 253],\n",
              "        [253, 253, 253]],\n",
              "\n",
              "       [[255, 255, 255],\n",
              "        [255, 255, 255],\n",
              "        [255, 255, 255],\n",
              "        ...,\n",
              "        [255, 255, 255],\n",
              "        [255, 255, 255],\n",
              "        [255, 255, 255]],\n",
              "\n",
              "       [[255, 255, 255],\n",
              "        [254, 254, 254],\n",
              "        [254, 254, 254],\n",
              "        ...,\n",
              "        [254, 254, 254],\n",
              "        [254, 254, 254],\n",
              "        [254, 254, 254]],\n",
              "\n",
              "       ...,\n",
              "\n",
              "       [[113, 120, 112],\n",
              "        [111, 118, 111],\n",
              "        [105, 112, 106],\n",
              "        ...,\n",
              "        [ 72,  81,  80],\n",
              "        [ 72,  80,  79],\n",
              "        [ 72,  80,  79]],\n",
              "\n",
              "       [[111, 118, 110],\n",
              "        [104, 111, 104],\n",
              "        [ 99, 106,  98],\n",
              "        ...,\n",
              "        [ 68,  75,  73],\n",
              "        [ 70,  76,  75],\n",
              "        [ 78,  84,  82]],\n",
              "\n",
              "       [[106, 113, 105],\n",
              "        [ 99, 106,  98],\n",
              "        [ 95, 102,  94],\n",
              "        ...,\n",
              "        [ 78,  85,  83],\n",
              "        [ 79,  85,  83],\n",
              "        [ 80,  86,  84]]], dtype=uint8)"
            ],
            "text/html": [
              "<style>\n",
              "      .ndarray_repr .ndarray_raw_data {\n",
              "        display: none;\n",
              "      }\n",
              "      .ndarray_repr.show_array .ndarray_raw_data {\n",
              "        display: block;\n",
              "      }\n",
              "      .ndarray_repr.show_array .ndarray_image_preview {\n",
              "        display: none;\n",
              "      }\n",
              "      </style>\n",
              "      <div id=\"id-b9fce892-6dcc-4f21-895f-6d3b2b9156da\" class=\"ndarray_repr\"><pre>ndarray (32, 32, 3) <button style=\"padding: 0 2px;\">show data</button></pre><img src=\"data:image/png;base64,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\" class=\"ndarray_image_preview\" /><pre class=\"ndarray_raw_data\">array([[[255, 255, 255],\n",
              "        [253, 253, 253],\n",
              "        [253, 253, 253],\n",
              "        ...,\n",
              "        [253, 253, 253],\n",
              "        [253, 253, 253],\n",
              "        [253, 253, 253]],\n",
              "\n",
              "       [[255, 255, 255],\n",
              "        [255, 255, 255],\n",
              "        [255, 255, 255],\n",
              "        ...,\n",
              "        [255, 255, 255],\n",
              "        [255, 255, 255],\n",
              "        [255, 255, 255]],\n",
              "\n",
              "       [[255, 255, 255],\n",
              "        [254, 254, 254],\n",
              "        [254, 254, 254],\n",
              "        ...,\n",
              "        [254, 254, 254],\n",
              "        [254, 254, 254],\n",
              "        [254, 254, 254]],\n",
              "\n",
              "       ...,\n",
              "\n",
              "       [[113, 120, 112],\n",
              "        [111, 118, 111],\n",
              "        [105, 112, 106],\n",
              "        ...,\n",
              "        [ 72,  81,  80],\n",
              "        [ 72,  80,  79],\n",
              "        [ 72,  80,  79]],\n",
              "\n",
              "       [[111, 118, 110],\n",
              "        [104, 111, 104],\n",
              "        [ 99, 106,  98],\n",
              "        ...,\n",
              "        [ 68,  75,  73],\n",
              "        [ 70,  76,  75],\n",
              "        [ 78,  84,  82]],\n",
              "\n",
              "       [[106, 113, 105],\n",
              "        [ 99, 106,  98],\n",
              "        [ 95, 102,  94],\n",
              "        ...,\n",
              "        [ 78,  85,  83],\n",
              "        [ 79,  85,  83],\n",
              "        [ 80,  86,  84]]], dtype=uint8)</pre></div><script>\n",
              "      (() => {\n",
              "      const titles = ['show data', 'hide data'];\n",
              "      let index = 0\n",
              "      document.querySelector('#id-b9fce892-6dcc-4f21-895f-6d3b2b9156da button').onclick = (e) => {\n",
              "        document.querySelector('#id-b9fce892-6dcc-4f21-895f-6d3b2b9156da').classList.toggle('show_array');\n",
              "        index = (++index) % 2;\n",
              "        document.querySelector('#id-b9fce892-6dcc-4f21-895f-6d3b2b9156da button').textContent = titles[index];\n",
              "        e.preventDefault();\n",
              "        e.stopPropagation();\n",
              "      }\n",
              "      })();\n",
              "    </script>"
            ]
          },
          "metadata": {},
          "execution_count": 5
        }
      ]
    },
    {
      "cell_type": "code",
      "source": [
        "# Display the image with larger visualization\n",
        "plt.figure(figsize=(10, 10))  # Adjust the figure size as needed\n",
        "plt.imshow(x_train[4])\n",
        "plt.axis('off')\n",
        "plt.show()"
      ],
      "metadata": {
        "colab": {
          "base_uri": "https://localhost:8080/",
          "height": 807
        },
        "id": "lC-CYRfSBzQX",
        "outputId": "5fbd90e0-0207-4325-933e-3ddae46470b3"
      },
      "execution_count": 6,
      "outputs": [
        {
          "output_type": "display_data",
          "data": {
            "text/plain": [
              "<Figure size 1000x1000 with 1 Axes>"
            ],
            "image/png": "[encoded data removed]"
          },
          "metadata": {}
        }
      ]
    },
    {
      "cell_type": "code",
      "source": [
        "cifar10"
      ],
      "metadata": {
        "colab": {
          "base_uri": "https://localhost:8080/"
        },
        "id": "HUGEI06aCnKn",
        "outputId": "bc12c059-30a4-423a-904b-70c4fe90b681"
      },
      "execution_count": 5,
      "outputs": [
        {
          "output_type": "execute_result",
          "data": {
            "text/plain": [
              "<module 'keras.api._v2.keras.datasets.cifar10' from '/usr/local/lib/python3.10/dist-packages/keras/api/_v2/keras/datasets/cifar10/__init__.py'>"
            ]
          },
          "metadata": {},
          "execution_count": 5
        }
      ]
    },
    {
      "cell_type": "code",
      "source": [
        "label_names=['airplane','automobile','bird','cat','deer','dog','frog','horse','ship','truck']\n"
      ],
      "metadata": {
        "id": "jIQh1LDAEtba"
      },
      "execution_count": 7,
      "outputs": []
    },
    {
      "cell_type": "code",
      "source": [
        "#make a histogram that has y axis the counts and x axis the labels\n",
        "label_counts = {}\n",
        "i = {i for i in label_names}\n",
        "counts=np.zeros((10)) #number of labels\n",
        "counts[0]\n",
        "for i in y_train:\n",
        "  counts[i]+=1\n",
        "counts\n",
        "\n",
        "# Create a figure and axes\n",
        "fig, ax = plt.subplots()\n",
        "\n",
        "# Plot the bars\n",
        "ax.bar(label_names, counts)\n",
        "\n",
        "# Customize the bar plot\n",
        "ax.set_title('Labels vs Counts')\n",
        "ax.set_xlabel('Labels')\n",
        "ax.set_ylabel('Counts')\n",
        "\n",
        "# Show the plot\n",
        "plt.show()\n"
      ],
      "metadata": {
        "colab": {
          "base_uri": "https://localhost:8080/",
          "height": 472
        },
        "id": "ojhlp5fmFVps",
        "outputId": "7047233b-6cf4-4846-97d5-3b45f3040864"
      },
      "execution_count": 8,
      "outputs": [
        {
          "output_type": "display_data",
          "data": {
            "text/plain": [
              "<Figure size 640x480 with 1 Axes>"
            ],
            "image/png": "[encoded data removed]"
          },
          "metadata": {}
        }
      ]
    },
    {
      "cell_type": "code",
      "source": [
        "#Create the model\n",
        "\n",
        "from tensorflow.keras import Sequential\n",
        "from tensorflow.keras.layers import Conv2D, MaxPooling2D, Flatten, Dense\n",
        "from tensorflow.keras.applications import VGG16\n",
        "\n",
        "def make_mymodel():\n",
        "  return Sequential([\n",
        "      tf.keras.layers.Conv2D(32, (3, 3), activation='relu', input_shape=(32,32,3)), #3x3 pixel size\n",
        "      tf.keras.layers.MaxPooling2D(2,2), # 2x2 pool size\n",
        "      tf.keras.layers.Conv2D(32, (3, 3), activation='relu'), #3x3 pixel size\n",
        "      tf.keras.layers.MaxPooling2D(2,2),\n",
        "      tf.keras.layers.Conv2D(32, (3, 3), activation='relu'), #3x3 pixel size\n",
        "      tf.keras.layers.MaxPooling2D(2,2),\n",
        "      tf.keras.layers.Flatten(), #based on the sized of images because \"Dense\" is for 1D arrays\n",
        "      tf.keras.layers.Dense(units=32, activation='relu'), #relu for internal layers\n",
        "      tf.keras.layers.Dense(units=16, activation='relu'),\n",
        "      tf.keras.layers.Dense(units=10, activation='softmax'),  #because this is a multi-class classification problem\n",
        "  ])\n",
        "\n",
        "\n",
        "# Load the pre-trained VGG16 model\n",
        "def make_VGG16():\n",
        "  return VGG16(include_top=False, input_shape=(32,32, 3))\n",
        "\n",
        "with strategy.scope():\n",
        "  model = make_mymodel()\n",
        "model.summary()\n",
        "\n"
      ],
      "metadata": {
        "colab": {
          "base_uri": "https://localhost:8080/"
        },
        "id": "hNzREMpeCWir",
        "outputId": "43751b75-5dc5-4198-bf7f-bd877d23446d"
      },
      "execution_count": 14,
      "outputs": [
        {
          "output_type": "stream",
          "name": "stdout",
          "text": [
            "Model: \"sequential\"\n",
            "_________________________________________________________________\n",
            " Layer (type)                Output Shape              Param #   \n",
            "=================================================================\n",
            " conv2d (Conv2D)             (None, 30, 30, 32)        896       \n",
            "                                                                 \n",
            " max_pooling2d (MaxPooling2D  (None, 15, 15, 32)       0         \n",
            " )                                                               \n",
            "                                                                 \n",
            " conv2d_1 (Conv2D)           (None, 13, 13, 32)        9248      \n",
            "                                                                 \n",
            " max_pooling2d_1 (MaxPooling  (None, 6, 6, 32)         0         \n",
            " 2D)                                                             \n",
            "                                                                 \n",
            " conv2d_2 (Conv2D)           (None, 4, 4, 32)          9248      \n",
            "                                                                 \n",
            " max_pooling2d_2 (MaxPooling  (None, 2, 2, 32)         0         \n",
            " 2D)                                                             \n",
            "                                                                 \n",
            " flatten (Flatten)           (None, 128)               0         \n",
            "                                                                 \n",
            " dense (Dense)               (None, 32)                4128      \n",
            "                                                                 \n",
            " dense_1 (Dense)             (None, 16)                528       \n",
            "                                                                 \n",
            " dense_2 (Dense)             (None, 10)                170       \n",
            "                                                                 \n",
            "=================================================================\n",
            "Total params: 24,218\n",
            "Trainable params: 24,218\n",
            "Non-trainable params: 0\n",
            "_________________________________________________________________\n"
          ]
        }
      ]
    },
    {
      "cell_type": "code",
      "source": [
        "#Specify cost and loss\n",
        "#will use Adam optimizer for this\n",
        "#Adam: provides adaptive learning, rates, momentum (accelerates gradients in the right direction) and bias correction\n",
        "from tensorflow.keras.losses import SparseCategoricalCrossentropy\n",
        "##do not use from_logits = True for the compile because\n",
        "#from_logits=True, the output of your model should be raw logits, not probabilities\n",
        "#either use softmax or from_logits = True\n",
        "with strategy.scope():\n",
        "  model.compile(optimizer = tf.keras.optimizers.Adam(learning_rate= 1e-3), loss=SparseCategoricalCrossentropy(), metrics=['accuracy'])"
      ],
      "metadata": {
        "id": "CH9iiCUPHMxB"
      },
      "execution_count": 15,
      "outputs": []
    },
    {
      "cell_type": "code",
      "source": [
        "#Train on data to minimize loss\n",
        "#epochs: During each epoch, the model sees the entire dataset, usually in batches,\n",
        "#to update its parameters (weights and biases) via optimization algorithms\n",
        "#like stochastic gradient descent (SGD) or Adam.\n",
        "model.fit(x_train,y_train, epochs=10, batch_size=100)"
      ],
      "metadata": {
        "colab": {
          "base_uri": "https://localhost:8080/"
        },
        "id": "13bo0pWdHOw_",
        "outputId": "81499d00-e7b8-408c-8eb3-8582df834709"
      },
      "execution_count": 16,
      "outputs": [
        {
          "output_type": "stream",
          "name": "stdout",
          "text": [
            "Epoch 1/10\n",
            "500/500 [==============================] - 13s 16ms/step - loss: 2.3598 - accuracy: 0.2278\n",
            "Epoch 2/10\n",
            "500/500 [==============================] - 8s 15ms/step - loss: 1.7157 - accuracy: 0.3631\n",
            "Epoch 3/10\n",
            "500/500 [==============================] - 8s 15ms/step - loss: 1.5506 - accuracy: 0.4287\n",
            "Epoch 4/10\n",
            "500/500 [==============================] - 8s 15ms/step - loss: 1.4491 - accuracy: 0.4705\n",
            "Epoch 5/10\n",
            "500/500 [==============================] - 7s 15ms/step - loss: 1.3687 - accuracy: 0.5056\n",
            "Epoch 6/10\n",
            "500/500 [==============================] - 8s 16ms/step - loss: 1.2902 - accuracy: 0.5350\n",
            "Epoch 7/10\n",
            "500/500 [==============================] - 8s 15ms/step - loss: 1.2376 - accuracy: 0.5548\n",
            "Epoch 8/10\n",
            "500/500 [==============================] - 8s 16ms/step - loss: 1.1867 - accuracy: 0.5743\n",
            "Epoch 9/10\n",
            "500/500 [==============================] - 8s 16ms/step - loss: 1.1362 - accuracy: 0.5953\n",
            "Epoch 10/10\n",
            "500/500 [==============================] - 8s 15ms/step - loss: 1.1047 - accuracy: 0.6060\n"
          ]
        },
        {
          "output_type": "execute_result",
          "data": {
            "text/plain": [
              "<keras.callbacks.History at 0x7969dc65de10>"
            ]
          },
          "metadata": {},
          "execution_count": 16
        }
      ]
    },
    {
      "cell_type": "code",
      "source": [
        "# Convert the evaluation data to a TensorFlow dataset object or NumPy arrays\n",
        "evaluation_dataset = tf.data.Dataset.from_tensor_slices((x_test, y_test, label_names))\n",
        "\n",
        "# Ensure the evaluation dataset is batched and shuffled if needed\n",
        "evaluation_dataset = evaluation_dataset.batch(batch_size=20)\n",
        "\n",
        "# Evaluate the model on the evaluation dataset\n",
        "loss, accuracy = model.evaluate(x_test, y_test)\n",
        "\n",
        "# Print the evaluation results\n",
        "print(\"Loss:\", loss)\n",
        "print(\"Accuracy:\", accuracy)"
      ],
      "metadata": {
        "id": "10CjqU-eJbSX"
      },
      "execution_count": null,
      "outputs": []
    }
  ]
}